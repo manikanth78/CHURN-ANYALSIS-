{
 "cells": [
  {
   "cell_type": "markdown",
   "id": "8eeb31d1",
   "metadata": {},
   "source": [
    "****Modules Import****"
   ]
  },
  {
   "cell_type": "code",
   "execution_count": 2,
   "id": "10df1273",
   "metadata": {},
   "outputs": [],
   "source": [
    "import pandas as pd\n",
    "import numpy as np\n",
    "import matplotlib.pyplot as plt\n",
    "import seaborn as sns"
   ]
  },
  {
   "cell_type": "markdown",
   "id": "33493206",
   "metadata": {},
   "source": [
    "***DATA IMPORT***"
   ]
  },
  {
   "cell_type": "code",
   "execution_count": 3,
   "id": "3b4f1d42",
   "metadata": {},
   "outputs": [],
   "source": [
    "df = pd.read_excel(\"Use case 2 - customer churn data.xlsx\")\n"
   ]
  },
  {
   "cell_type": "markdown",
   "id": "08692e1c",
   "metadata": {},
   "source": [
    "***DATA VIEWING AND FUTURE OPERATIONS***"
   ]
  },
  {
   "cell_type": "code",
   "execution_count": 4,
   "id": "3cab35c2",
   "metadata": {},
   "outputs": [
    {
     "name": "stdout",
     "output_type": "stream",
     "text": [
      "      customerID  gender  SeniorCitizen Dependents  tenure PhoneService  \\\n",
      "0     7590-VHVEG  Female              0         No       1           No   \n",
      "1     5575-GNVDE     NaN              0         No      34          Yes   \n",
      "2     3668-QPYBK    Male              0         No       2          Yes   \n",
      "3     7795-CFOCW    Male              0         No      45           No   \n",
      "4     9237-HQITU  Female              0         No       2          Yes   \n",
      "...          ...     ...            ...        ...     ...          ...   \n",
      "7038  6840-RESVB    Male              0        Yes      24          Yes   \n",
      "7039  2234-XADUH  Female              0        Yes      72          Yes   \n",
      "7040  4801-JZAZL  Female              0        Yes      11           No   \n",
      "7041  8361-LTMKD    Male              1         No       4          Yes   \n",
      "7042  3186-AJIEK    Male              0         No      66          Yes   \n",
      "\n",
      "         MultipleLines InternetService OnlineSecurity OnlineBackup  ...  \\\n",
      "0     No phone service             DSL             No          Yes  ...   \n",
      "1                   No             DSL            Yes           No  ...   \n",
      "2                   No             DSL            Yes          Yes  ...   \n",
      "3     No phone service             DSL            Yes           No  ...   \n",
      "4                   No     Fiber optic             No           No  ...   \n",
      "...                ...             ...            ...          ...  ...   \n",
      "7038               Yes             DSL            Yes           No  ...   \n",
      "7039               Yes     Fiber optic             No          Yes  ...   \n",
      "7040  No phone service             DSL            Yes           No  ...   \n",
      "7041               Yes     Fiber optic             No           No  ...   \n",
      "7042                No     Fiber optic            Yes           No  ...   \n",
      "\n",
      "     StreamingMovies        Contract PaperlessBilling  \\\n",
      "0                 No  Month-to-month              Yes   \n",
      "1                 No        One year               No   \n",
      "2                 No  Month-to-month              Yes   \n",
      "3                 No        One year               No   \n",
      "4                 No  Month-to-month              Yes   \n",
      "...              ...             ...              ...   \n",
      "7038             Yes        One year              Yes   \n",
      "7039             Yes        One year              Yes   \n",
      "7040              No  Month-to-month              Yes   \n",
      "7041              No  Month-to-month              Yes   \n",
      "7042             Yes        Two year              Yes   \n",
      "\n",
      "                  PaymentMethod MonthlyCharges TotalCharges numAdminTickets  \\\n",
      "0              Electronic check          29.85        29.85             0.0   \n",
      "1                  Mailed check          56.95       1889.5             0.0   \n",
      "2                  Mailed check          53.85       108.15             0.0   \n",
      "3     Bank transfer (automatic)          42.30      1840.75             0.0   \n",
      "4              Electronic check          70.70       151.65             0.0   \n",
      "...                         ...            ...          ...             ...   \n",
      "7038               Mailed check          84.80       1990.5             0.0   \n",
      "7039    Credit card (automatic)         103.20       7362.9             0.0   \n",
      "7040           Electronic check          29.60       346.45             0.0   \n",
      "7041               Mailed check          74.40        306.6             0.0   \n",
      "7042  Bank transfer (automatic)         105.65       6844.5             2.0   \n",
      "\n",
      "      numTechTickets Churn            Location  \n",
      "0                  0    No    North - New York  \n",
      "1                  0    No   West - California  \n",
      "2                  0   Yes     East - Illinois  \n",
      "3                  3    No     West - Illinois  \n",
      "4                  0   Yes     East - Illinois  \n",
      "...              ...   ...                 ...  \n",
      "7038               0    No     West - New York  \n",
      "7039               5    No       North - Texas  \n",
      "7040               0    No      East - Florida  \n",
      "7041               0   Yes  South - California  \n",
      "7042               0    No   West - California  \n",
      "\n",
      "[7043 rows x 23 columns]\n"
     ]
    }
   ],
   "source": [
    "print(df)"
   ]
  },
  {
   "cell_type": "code",
   "execution_count": 5,
   "id": "6ee9d722",
   "metadata": {},
   "outputs": [
    {
     "data": {
      "text/plain": [
       "(7043, 23)"
      ]
     },
     "execution_count": 5,
     "metadata": {},
     "output_type": "execute_result"
    }
   ],
   "source": [
    "df.shape      # total no.rows and colums"
   ]
  },
  {
   "cell_type": "code",
   "execution_count": 6,
   "id": "26919346",
   "metadata": {},
   "outputs": [
    {
     "data": {
      "text/html": [
       "<div>\n",
       "<style scoped>\n",
       "    .dataframe tbody tr th:only-of-type {\n",
       "        vertical-align: middle;\n",
       "    }\n",
       "\n",
       "    .dataframe tbody tr th {\n",
       "        vertical-align: top;\n",
       "    }\n",
       "\n",
       "    .dataframe thead th {\n",
       "        text-align: right;\n",
       "    }\n",
       "</style>\n",
       "<table border=\"1\" class=\"dataframe\">\n",
       "  <thead>\n",
       "    <tr style=\"text-align: right;\">\n",
       "      <th></th>\n",
       "      <th>customerID</th>\n",
       "      <th>gender</th>\n",
       "      <th>SeniorCitizen</th>\n",
       "      <th>Dependents</th>\n",
       "      <th>tenure</th>\n",
       "      <th>PhoneService</th>\n",
       "      <th>MultipleLines</th>\n",
       "      <th>InternetService</th>\n",
       "      <th>OnlineSecurity</th>\n",
       "      <th>OnlineBackup</th>\n",
       "      <th>...</th>\n",
       "      <th>StreamingMovies</th>\n",
       "      <th>Contract</th>\n",
       "      <th>PaperlessBilling</th>\n",
       "      <th>PaymentMethod</th>\n",
       "      <th>MonthlyCharges</th>\n",
       "      <th>TotalCharges</th>\n",
       "      <th>numAdminTickets</th>\n",
       "      <th>numTechTickets</th>\n",
       "      <th>Churn</th>\n",
       "      <th>Location</th>\n",
       "    </tr>\n",
       "  </thead>\n",
       "  <tbody>\n",
       "    <tr>\n",
       "      <th>0</th>\n",
       "      <td>7590-VHVEG</td>\n",
       "      <td>Female</td>\n",
       "      <td>0</td>\n",
       "      <td>No</td>\n",
       "      <td>1</td>\n",
       "      <td>No</td>\n",
       "      <td>No phone service</td>\n",
       "      <td>DSL</td>\n",
       "      <td>No</td>\n",
       "      <td>Yes</td>\n",
       "      <td>...</td>\n",
       "      <td>No</td>\n",
       "      <td>Month-to-month</td>\n",
       "      <td>Yes</td>\n",
       "      <td>Electronic check</td>\n",
       "      <td>29.85</td>\n",
       "      <td>29.85</td>\n",
       "      <td>0.0</td>\n",
       "      <td>0</td>\n",
       "      <td>No</td>\n",
       "      <td>North - New York</td>\n",
       "    </tr>\n",
       "    <tr>\n",
       "      <th>1</th>\n",
       "      <td>5575-GNVDE</td>\n",
       "      <td>NaN</td>\n",
       "      <td>0</td>\n",
       "      <td>No</td>\n",
       "      <td>34</td>\n",
       "      <td>Yes</td>\n",
       "      <td>No</td>\n",
       "      <td>DSL</td>\n",
       "      <td>Yes</td>\n",
       "      <td>No</td>\n",
       "      <td>...</td>\n",
       "      <td>No</td>\n",
       "      <td>One year</td>\n",
       "      <td>No</td>\n",
       "      <td>Mailed check</td>\n",
       "      <td>56.95</td>\n",
       "      <td>1889.5</td>\n",
       "      <td>0.0</td>\n",
       "      <td>0</td>\n",
       "      <td>No</td>\n",
       "      <td>West - California</td>\n",
       "    </tr>\n",
       "    <tr>\n",
       "      <th>2</th>\n",
       "      <td>3668-QPYBK</td>\n",
       "      <td>Male</td>\n",
       "      <td>0</td>\n",
       "      <td>No</td>\n",
       "      <td>2</td>\n",
       "      <td>Yes</td>\n",
       "      <td>No</td>\n",
       "      <td>DSL</td>\n",
       "      <td>Yes</td>\n",
       "      <td>Yes</td>\n",
       "      <td>...</td>\n",
       "      <td>No</td>\n",
       "      <td>Month-to-month</td>\n",
       "      <td>Yes</td>\n",
       "      <td>Mailed check</td>\n",
       "      <td>53.85</td>\n",
       "      <td>108.15</td>\n",
       "      <td>0.0</td>\n",
       "      <td>0</td>\n",
       "      <td>Yes</td>\n",
       "      <td>East - Illinois</td>\n",
       "    </tr>\n",
       "    <tr>\n",
       "      <th>3</th>\n",
       "      <td>7795-CFOCW</td>\n",
       "      <td>Male</td>\n",
       "      <td>0</td>\n",
       "      <td>No</td>\n",
       "      <td>45</td>\n",
       "      <td>No</td>\n",
       "      <td>No phone service</td>\n",
       "      <td>DSL</td>\n",
       "      <td>Yes</td>\n",
       "      <td>No</td>\n",
       "      <td>...</td>\n",
       "      <td>No</td>\n",
       "      <td>One year</td>\n",
       "      <td>No</td>\n",
       "      <td>Bank transfer (automatic)</td>\n",
       "      <td>42.30</td>\n",
       "      <td>1840.75</td>\n",
       "      <td>0.0</td>\n",
       "      <td>3</td>\n",
       "      <td>No</td>\n",
       "      <td>West - Illinois</td>\n",
       "    </tr>\n",
       "    <tr>\n",
       "      <th>4</th>\n",
       "      <td>9237-HQITU</td>\n",
       "      <td>Female</td>\n",
       "      <td>0</td>\n",
       "      <td>No</td>\n",
       "      <td>2</td>\n",
       "      <td>Yes</td>\n",
       "      <td>No</td>\n",
       "      <td>Fiber optic</td>\n",
       "      <td>No</td>\n",
       "      <td>No</td>\n",
       "      <td>...</td>\n",
       "      <td>No</td>\n",
       "      <td>Month-to-month</td>\n",
       "      <td>Yes</td>\n",
       "      <td>Electronic check</td>\n",
       "      <td>70.70</td>\n",
       "      <td>151.65</td>\n",
       "      <td>0.0</td>\n",
       "      <td>0</td>\n",
       "      <td>Yes</td>\n",
       "      <td>East - Illinois</td>\n",
       "    </tr>\n",
       "  </tbody>\n",
       "</table>\n",
       "<p>5 rows × 23 columns</p>\n",
       "</div>"
      ],
      "text/plain": [
       "   customerID  gender  SeniorCitizen Dependents  tenure PhoneService  \\\n",
       "0  7590-VHVEG  Female              0         No       1           No   \n",
       "1  5575-GNVDE     NaN              0         No      34          Yes   \n",
       "2  3668-QPYBK    Male              0         No       2          Yes   \n",
       "3  7795-CFOCW    Male              0         No      45           No   \n",
       "4  9237-HQITU  Female              0         No       2          Yes   \n",
       "\n",
       "      MultipleLines InternetService OnlineSecurity OnlineBackup  ...  \\\n",
       "0  No phone service             DSL             No          Yes  ...   \n",
       "1                No             DSL            Yes           No  ...   \n",
       "2                No             DSL            Yes          Yes  ...   \n",
       "3  No phone service             DSL            Yes           No  ...   \n",
       "4                No     Fiber optic             No           No  ...   \n",
       "\n",
       "  StreamingMovies        Contract PaperlessBilling              PaymentMethod  \\\n",
       "0              No  Month-to-month              Yes           Electronic check   \n",
       "1              No        One year               No               Mailed check   \n",
       "2              No  Month-to-month              Yes               Mailed check   \n",
       "3              No        One year               No  Bank transfer (automatic)   \n",
       "4              No  Month-to-month              Yes           Electronic check   \n",
       "\n",
       "  MonthlyCharges TotalCharges numAdminTickets  numTechTickets Churn  \\\n",
       "0          29.85        29.85             0.0               0    No   \n",
       "1          56.95       1889.5             0.0               0    No   \n",
       "2          53.85       108.15             0.0               0   Yes   \n",
       "3          42.30      1840.75             0.0               3    No   \n",
       "4          70.70       151.65             0.0               0   Yes   \n",
       "\n",
       "            Location  \n",
       "0   North - New York  \n",
       "1  West - California  \n",
       "2    East - Illinois  \n",
       "3    West - Illinois  \n",
       "4    East - Illinois  \n",
       "\n",
       "[5 rows x 23 columns]"
      ]
     },
     "execution_count": 6,
     "metadata": {},
     "output_type": "execute_result"
    }
   ],
   "source": [
    "df.head()"
   ]
  },
  {
   "cell_type": "code",
   "execution_count": 7,
   "id": "c3dd3e38",
   "metadata": {},
   "outputs": [
    {
     "data": {
      "text/html": [
       "<div>\n",
       "<style scoped>\n",
       "    .dataframe tbody tr th:only-of-type {\n",
       "        vertical-align: middle;\n",
       "    }\n",
       "\n",
       "    .dataframe tbody tr th {\n",
       "        vertical-align: top;\n",
       "    }\n",
       "\n",
       "    .dataframe thead th {\n",
       "        text-align: right;\n",
       "    }\n",
       "</style>\n",
       "<table border=\"1\" class=\"dataframe\">\n",
       "  <thead>\n",
       "    <tr style=\"text-align: right;\">\n",
       "      <th></th>\n",
       "      <th>customerID</th>\n",
       "      <th>gender</th>\n",
       "      <th>SeniorCitizen</th>\n",
       "      <th>Dependents</th>\n",
       "      <th>tenure</th>\n",
       "      <th>PhoneService</th>\n",
       "      <th>MultipleLines</th>\n",
       "      <th>InternetService</th>\n",
       "      <th>OnlineSecurity</th>\n",
       "      <th>OnlineBackup</th>\n",
       "      <th>...</th>\n",
       "      <th>StreamingMovies</th>\n",
       "      <th>Contract</th>\n",
       "      <th>PaperlessBilling</th>\n",
       "      <th>PaymentMethod</th>\n",
       "      <th>MonthlyCharges</th>\n",
       "      <th>TotalCharges</th>\n",
       "      <th>numAdminTickets</th>\n",
       "      <th>numTechTickets</th>\n",
       "      <th>Churn</th>\n",
       "      <th>Location</th>\n",
       "    </tr>\n",
       "  </thead>\n",
       "  <tbody>\n",
       "    <tr>\n",
       "      <th>7038</th>\n",
       "      <td>6840-RESVB</td>\n",
       "      <td>Male</td>\n",
       "      <td>0</td>\n",
       "      <td>Yes</td>\n",
       "      <td>24</td>\n",
       "      <td>Yes</td>\n",
       "      <td>Yes</td>\n",
       "      <td>DSL</td>\n",
       "      <td>Yes</td>\n",
       "      <td>No</td>\n",
       "      <td>...</td>\n",
       "      <td>Yes</td>\n",
       "      <td>One year</td>\n",
       "      <td>Yes</td>\n",
       "      <td>Mailed check</td>\n",
       "      <td>84.80</td>\n",
       "      <td>1990.5</td>\n",
       "      <td>0.0</td>\n",
       "      <td>0</td>\n",
       "      <td>No</td>\n",
       "      <td>West - New York</td>\n",
       "    </tr>\n",
       "    <tr>\n",
       "      <th>7039</th>\n",
       "      <td>2234-XADUH</td>\n",
       "      <td>Female</td>\n",
       "      <td>0</td>\n",
       "      <td>Yes</td>\n",
       "      <td>72</td>\n",
       "      <td>Yes</td>\n",
       "      <td>Yes</td>\n",
       "      <td>Fiber optic</td>\n",
       "      <td>No</td>\n",
       "      <td>Yes</td>\n",
       "      <td>...</td>\n",
       "      <td>Yes</td>\n",
       "      <td>One year</td>\n",
       "      <td>Yes</td>\n",
       "      <td>Credit card (automatic)</td>\n",
       "      <td>103.20</td>\n",
       "      <td>7362.9</td>\n",
       "      <td>0.0</td>\n",
       "      <td>5</td>\n",
       "      <td>No</td>\n",
       "      <td>North - Texas</td>\n",
       "    </tr>\n",
       "    <tr>\n",
       "      <th>7040</th>\n",
       "      <td>4801-JZAZL</td>\n",
       "      <td>Female</td>\n",
       "      <td>0</td>\n",
       "      <td>Yes</td>\n",
       "      <td>11</td>\n",
       "      <td>No</td>\n",
       "      <td>No phone service</td>\n",
       "      <td>DSL</td>\n",
       "      <td>Yes</td>\n",
       "      <td>No</td>\n",
       "      <td>...</td>\n",
       "      <td>No</td>\n",
       "      <td>Month-to-month</td>\n",
       "      <td>Yes</td>\n",
       "      <td>Electronic check</td>\n",
       "      <td>29.60</td>\n",
       "      <td>346.45</td>\n",
       "      <td>0.0</td>\n",
       "      <td>0</td>\n",
       "      <td>No</td>\n",
       "      <td>East - Florida</td>\n",
       "    </tr>\n",
       "    <tr>\n",
       "      <th>7041</th>\n",
       "      <td>8361-LTMKD</td>\n",
       "      <td>Male</td>\n",
       "      <td>1</td>\n",
       "      <td>No</td>\n",
       "      <td>4</td>\n",
       "      <td>Yes</td>\n",
       "      <td>Yes</td>\n",
       "      <td>Fiber optic</td>\n",
       "      <td>No</td>\n",
       "      <td>No</td>\n",
       "      <td>...</td>\n",
       "      <td>No</td>\n",
       "      <td>Month-to-month</td>\n",
       "      <td>Yes</td>\n",
       "      <td>Mailed check</td>\n",
       "      <td>74.40</td>\n",
       "      <td>306.6</td>\n",
       "      <td>0.0</td>\n",
       "      <td>0</td>\n",
       "      <td>Yes</td>\n",
       "      <td>South - California</td>\n",
       "    </tr>\n",
       "    <tr>\n",
       "      <th>7042</th>\n",
       "      <td>3186-AJIEK</td>\n",
       "      <td>Male</td>\n",
       "      <td>0</td>\n",
       "      <td>No</td>\n",
       "      <td>66</td>\n",
       "      <td>Yes</td>\n",
       "      <td>No</td>\n",
       "      <td>Fiber optic</td>\n",
       "      <td>Yes</td>\n",
       "      <td>No</td>\n",
       "      <td>...</td>\n",
       "      <td>Yes</td>\n",
       "      <td>Two year</td>\n",
       "      <td>Yes</td>\n",
       "      <td>Bank transfer (automatic)</td>\n",
       "      <td>105.65</td>\n",
       "      <td>6844.5</td>\n",
       "      <td>2.0</td>\n",
       "      <td>0</td>\n",
       "      <td>No</td>\n",
       "      <td>West - California</td>\n",
       "    </tr>\n",
       "  </tbody>\n",
       "</table>\n",
       "<p>5 rows × 23 columns</p>\n",
       "</div>"
      ],
      "text/plain": [
       "      customerID  gender  SeniorCitizen Dependents  tenure PhoneService  \\\n",
       "7038  6840-RESVB    Male              0        Yes      24          Yes   \n",
       "7039  2234-XADUH  Female              0        Yes      72          Yes   \n",
       "7040  4801-JZAZL  Female              0        Yes      11           No   \n",
       "7041  8361-LTMKD    Male              1         No       4          Yes   \n",
       "7042  3186-AJIEK    Male              0         No      66          Yes   \n",
       "\n",
       "         MultipleLines InternetService OnlineSecurity OnlineBackup  ...  \\\n",
       "7038               Yes             DSL            Yes           No  ...   \n",
       "7039               Yes     Fiber optic             No          Yes  ...   \n",
       "7040  No phone service             DSL            Yes           No  ...   \n",
       "7041               Yes     Fiber optic             No           No  ...   \n",
       "7042                No     Fiber optic            Yes           No  ...   \n",
       "\n",
       "     StreamingMovies        Contract PaperlessBilling  \\\n",
       "7038             Yes        One year              Yes   \n",
       "7039             Yes        One year              Yes   \n",
       "7040              No  Month-to-month              Yes   \n",
       "7041              No  Month-to-month              Yes   \n",
       "7042             Yes        Two year              Yes   \n",
       "\n",
       "                  PaymentMethod MonthlyCharges TotalCharges numAdminTickets  \\\n",
       "7038               Mailed check          84.80       1990.5             0.0   \n",
       "7039    Credit card (automatic)         103.20       7362.9             0.0   \n",
       "7040           Electronic check          29.60       346.45             0.0   \n",
       "7041               Mailed check          74.40        306.6             0.0   \n",
       "7042  Bank transfer (automatic)         105.65       6844.5             2.0   \n",
       "\n",
       "      numTechTickets Churn            Location  \n",
       "7038               0    No     West - New York  \n",
       "7039               5    No       North - Texas  \n",
       "7040               0    No      East - Florida  \n",
       "7041               0   Yes  South - California  \n",
       "7042               0    No   West - California  \n",
       "\n",
       "[5 rows x 23 columns]"
      ]
     },
     "execution_count": 7,
     "metadata": {},
     "output_type": "execute_result"
    }
   ],
   "source": [
    "df.tail()"
   ]
  },
  {
   "cell_type": "code",
   "execution_count": 8,
   "id": "f3ddfc65",
   "metadata": {},
   "outputs": [
    {
     "data": {
      "text/html": [
       "<div>\n",
       "<style scoped>\n",
       "    .dataframe tbody tr th:only-of-type {\n",
       "        vertical-align: middle;\n",
       "    }\n",
       "\n",
       "    .dataframe tbody tr th {\n",
       "        vertical-align: top;\n",
       "    }\n",
       "\n",
       "    .dataframe thead th {\n",
       "        text-align: right;\n",
       "    }\n",
       "</style>\n",
       "<table border=\"1\" class=\"dataframe\">\n",
       "  <thead>\n",
       "    <tr style=\"text-align: right;\">\n",
       "      <th></th>\n",
       "      <th>SeniorCitizen</th>\n",
       "      <th>tenure</th>\n",
       "      <th>MonthlyCharges</th>\n",
       "      <th>numAdminTickets</th>\n",
       "      <th>numTechTickets</th>\n",
       "    </tr>\n",
       "  </thead>\n",
       "  <tbody>\n",
       "    <tr>\n",
       "      <th>count</th>\n",
       "      <td>7043.000000</td>\n",
       "      <td>7043.000000</td>\n",
       "      <td>7043.000000</td>\n",
       "      <td>6451.000000</td>\n",
       "      <td>7043.000000</td>\n",
       "    </tr>\n",
       "    <tr>\n",
       "      <th>mean</th>\n",
       "      <td>0.162147</td>\n",
       "      <td>32.371149</td>\n",
       "      <td>64.761692</td>\n",
       "      <td>0.512169</td>\n",
       "      <td>0.419566</td>\n",
       "    </tr>\n",
       "    <tr>\n",
       "      <th>std</th>\n",
       "      <td>0.368612</td>\n",
       "      <td>24.559481</td>\n",
       "      <td>30.090047</td>\n",
       "      <td>1.270158</td>\n",
       "      <td>1.250117</td>\n",
       "    </tr>\n",
       "    <tr>\n",
       "      <th>min</th>\n",
       "      <td>0.000000</td>\n",
       "      <td>0.000000</td>\n",
       "      <td>18.250000</td>\n",
       "      <td>0.000000</td>\n",
       "      <td>0.000000</td>\n",
       "    </tr>\n",
       "    <tr>\n",
       "      <th>25%</th>\n",
       "      <td>0.000000</td>\n",
       "      <td>9.000000</td>\n",
       "      <td>35.500000</td>\n",
       "      <td>0.000000</td>\n",
       "      <td>0.000000</td>\n",
       "    </tr>\n",
       "    <tr>\n",
       "      <th>50%</th>\n",
       "      <td>0.000000</td>\n",
       "      <td>29.000000</td>\n",
       "      <td>70.350000</td>\n",
       "      <td>0.000000</td>\n",
       "      <td>0.000000</td>\n",
       "    </tr>\n",
       "    <tr>\n",
       "      <th>75%</th>\n",
       "      <td>0.000000</td>\n",
       "      <td>55.000000</td>\n",
       "      <td>89.850000</td>\n",
       "      <td>0.000000</td>\n",
       "      <td>0.000000</td>\n",
       "    </tr>\n",
       "    <tr>\n",
       "      <th>max</th>\n",
       "      <td>1.000000</td>\n",
       "      <td>72.000000</td>\n",
       "      <td>118.750000</td>\n",
       "      <td>5.000000</td>\n",
       "      <td>9.000000</td>\n",
       "    </tr>\n",
       "  </tbody>\n",
       "</table>\n",
       "</div>"
      ],
      "text/plain": [
       "       SeniorCitizen       tenure  MonthlyCharges  numAdminTickets  \\\n",
       "count    7043.000000  7043.000000     7043.000000      6451.000000   \n",
       "mean        0.162147    32.371149       64.761692         0.512169   \n",
       "std         0.368612    24.559481       30.090047         1.270158   \n",
       "min         0.000000     0.000000       18.250000         0.000000   \n",
       "25%         0.000000     9.000000       35.500000         0.000000   \n",
       "50%         0.000000    29.000000       70.350000         0.000000   \n",
       "75%         0.000000    55.000000       89.850000         0.000000   \n",
       "max         1.000000    72.000000      118.750000         5.000000   \n",
       "\n",
       "       numTechTickets  \n",
       "count     7043.000000  \n",
       "mean         0.419566  \n",
       "std          1.250117  \n",
       "min          0.000000  \n",
       "25%          0.000000  \n",
       "50%          0.000000  \n",
       "75%          0.000000  \n",
       "max          9.000000  "
      ]
     },
     "execution_count": 8,
     "metadata": {},
     "output_type": "execute_result"
    }
   ],
   "source": [
    "df.describe()"
   ]
  },
  {
   "cell_type": "code",
   "execution_count": 9,
   "id": "1de0dfaf",
   "metadata": {},
   "outputs": [
    {
     "name": "stdout",
     "output_type": "stream",
     "text": [
      "\"COLUMNS OF DATASET\"\n",
      "customerID\n",
      "gender\n",
      "SeniorCitizen\n",
      "Dependents\n",
      "tenure\n",
      "PhoneService\n",
      "MultipleLines\n",
      "InternetService\n",
      "OnlineSecurity\n",
      "OnlineBackup\n",
      "DeviceProtection\n",
      "TechSupport\n",
      "StreamingTV\n",
      "StreamingMovies\n",
      "Contract\n",
      "PaperlessBilling\n",
      "PaymentMethod\n",
      "MonthlyCharges\n",
      "TotalCharges\n",
      "numAdminTickets\n",
      "numTechTickets\n",
      "Churn\n",
      "Location\n"
     ]
    }
   ],
   "source": [
    "# print(df.columns)\n",
    "print(\"\\\"COLUMNS OF DATASET\\\"\")\n",
    "for i in df.columns:\n",
    "    print(i)"
   ]
  },
  {
   "cell_type": "code",
   "execution_count": 10,
   "id": "f5f9bd37",
   "metadata": {},
   "outputs": [
    {
     "name": "stdout",
     "output_type": "stream",
     "text": [
      "<class 'pandas.core.frame.DataFrame'>\n",
      "RangeIndex: 7043 entries, 0 to 7042\n",
      "Data columns (total 23 columns):\n",
      " #   Column            Non-Null Count  Dtype  \n",
      "---  ------            --------------  -----  \n",
      " 0   customerID        7043 non-null   object \n",
      " 1   gender            6647 non-null   object \n",
      " 2   SeniorCitizen     7043 non-null   int64  \n",
      " 3   Dependents        7043 non-null   object \n",
      " 4   tenure            7043 non-null   int64  \n",
      " 5   PhoneService      7043 non-null   object \n",
      " 6   MultipleLines     7043 non-null   object \n",
      " 7   InternetService   7043 non-null   object \n",
      " 8   OnlineSecurity    7043 non-null   object \n",
      " 9   OnlineBackup      7043 non-null   object \n",
      " 10  DeviceProtection  7043 non-null   object \n",
      " 11  TechSupport       7043 non-null   object \n",
      " 12  StreamingTV       6616 non-null   object \n",
      " 13  StreamingMovies   6537 non-null   object \n",
      " 14  Contract          7043 non-null   object \n",
      " 15  PaperlessBilling  7043 non-null   object \n",
      " 16  PaymentMethod     7043 non-null   object \n",
      " 17  MonthlyCharges    7043 non-null   float64\n",
      " 18  TotalCharges      7043 non-null   object \n",
      " 19  numAdminTickets   6451 non-null   float64\n",
      " 20  numTechTickets    7043 non-null   int64  \n",
      " 21  Churn             7043 non-null   object \n",
      " 22  Location          7043 non-null   object \n",
      "dtypes: float64(2), int64(3), object(18)\n",
      "memory usage: 1.2+ MB\n"
     ]
    }
   ],
   "source": [
    "df.info()"
   ]
  },
  {
   "cell_type": "code",
   "execution_count": 11,
   "id": "c35d83b8",
   "metadata": {},
   "outputs": [
    {
     "data": {
      "text/plain": [
       "customerID          7043\n",
       "gender                 2\n",
       "SeniorCitizen          2\n",
       "Dependents             2\n",
       "tenure                73\n",
       "PhoneService           2\n",
       "MultipleLines          3\n",
       "InternetService        3\n",
       "OnlineSecurity         3\n",
       "OnlineBackup           3\n",
       "DeviceProtection       3\n",
       "TechSupport            3\n",
       "StreamingTV            3\n",
       "StreamingMovies        3\n",
       "Contract               3\n",
       "PaperlessBilling       2\n",
       "PaymentMethod          4\n",
       "MonthlyCharges      1585\n",
       "TotalCharges        6531\n",
       "numAdminTickets        6\n",
       "numTechTickets        10\n",
       "Churn                  2\n",
       "Location              24\n",
       "dtype: int64"
      ]
     },
     "execution_count": 11,
     "metadata": {},
     "output_type": "execute_result"
    }
   ],
   "source": [
    "df[df.columns].nunique()   # checking how many unique value does each columns cotains"
   ]
  },
  {
   "cell_type": "code",
   "execution_count": 12,
   "id": "7e974cca",
   "metadata": {},
   "outputs": [
    {
     "name": "stdout",
     "output_type": "stream",
     "text": [
      "customerID: ['7590-VHVEG' '5575-GNVDE' '3668-QPYBK' ... '4801-JZAZL' '8361-LTMKD'\n",
      " '3186-AJIEK']\n",
      "gender: ['Female' nan 'Male']\n",
      "SeniorCitizen: [0 1]\n",
      "Dependents: ['No' 'Yes']\n",
      "tenure: [ 1 34  2 45  8 22 10 28 62 13 16 58 49 25 69 52 71 21 12 30 47 72 17 27\n",
      "  5 46 11 70 63 43 15 60 18 66  9  3 31 50 64 56  7 42 35 48 29 65 38 68\n",
      " 32 55 37 36 41  6  4 33 67 23 57 61 14 20 53 40 59 24 44 19 54 51 26  0\n",
      " 39]\n",
      "PhoneService: ['No' 'Yes']\n",
      "MultipleLines: ['No phone service' 'No' 'Yes']\n",
      "InternetService: ['DSL' 'Fiber optic' 'No']\n",
      "OnlineSecurity: ['No' 'Yes' 'No internet service']\n",
      "OnlineBackup: ['Yes' 'No' 'No internet service']\n",
      "DeviceProtection: ['No' 'Yes' 'No internet service']\n",
      "TechSupport: ['No' 'Yes' 'No internet service']\n",
      "StreamingTV: ['No' 'Yes' nan 'No internet service']\n",
      "StreamingMovies: ['No' 'Yes' nan 'No internet service']\n",
      "Contract: ['Month-to-month' 'One year' 'Two year']\n",
      "PaperlessBilling: ['Yes' 'No']\n",
      "PaymentMethod: ['Electronic check' 'Mailed check' 'Bank transfer (automatic)'\n",
      " 'Credit card (automatic)']\n",
      "MonthlyCharges: [29.85 56.95 53.85 ... 63.1  44.2  78.7 ]\n",
      "TotalCharges: [29.85 1889.5 108.15 ... 346.45 306.6 6844.5]\n",
      "numAdminTickets: [ 0.  1.  5.  2.  4. nan  3.]\n",
      "numTechTickets: [0 3 2 4 1 6 5 7 8 9]\n",
      "Churn: ['No' 'Yes']\n",
      "Location: ['North - New York' 'West - California' 'East - Illinois'\n",
      " 'West - Illinois' 'South - California' 'East - Texas' 'North - Ohio'\n",
      " 'North - Florida' 'South - Florida' 'North - California' 'West - Florida'\n",
      " 'East - California' 'East - Florida' 'West - Texas' 'North - Texas'\n",
      " 'West - New York' 'South - Ohio' 'South - Illinois' 'East - New York'\n",
      " 'North - Illinois' 'South - Texas' 'East - Ohio' 'South - New York'\n",
      " 'West - Ohio']\n"
     ]
    }
   ],
   "source": [
    "for col in df.columns:\n",
    "    print(f\"{col}: {df[col].unique()}\")\n",
    "    "
   ]
  },
  {
   "cell_type": "code",
   "execution_count": 13,
   "id": "0578c1fa",
   "metadata": {},
   "outputs": [
    {
     "name": "stdout",
     "output_type": "stream",
     "text": [
      "(7043, 23)\n"
     ]
    }
   ],
   "source": [
    "df1 =df.copy()  # copying df to df1 as of safer side dealing \n",
    "print(df1.shape)    # COPIED DATASE DETAILS "
   ]
  },
  {
   "cell_type": "code",
   "execution_count": 14,
   "id": "5407612a",
   "metadata": {},
   "outputs": [
    {
     "data": {
      "text/plain": [
       "np.False_"
      ]
     },
     "execution_count": 14,
     "metadata": {},
     "output_type": "execute_result"
    }
   ],
   "source": [
    "df1.duplicated().any()"
   ]
  },
  {
   "cell_type": "code",
   "execution_count": 15,
   "id": "f8367093",
   "metadata": {},
   "outputs": [
    {
     "data": {
      "text/plain": [
       "array(['Female', nan, 'Male'], dtype=object)"
      ]
     },
     "execution_count": 15,
     "metadata": {},
     "output_type": "execute_result"
    }
   ],
   "source": [
    "df1['gender'].unique()\n"
   ]
  },
  {
   "cell_type": "code",
   "execution_count": 16,
   "id": "647eb5ff",
   "metadata": {},
   "outputs": [
    {
     "data": {
      "text/plain": [
       "'Male'"
      ]
     },
     "execution_count": 16,
     "metadata": {},
     "output_type": "execute_result"
    }
   ],
   "source": [
    "df1['gender'].mode()[0]"
   ]
  },
  {
   "cell_type": "code",
   "execution_count": 17,
   "id": "353352a7",
   "metadata": {},
   "outputs": [
    {
     "name": "stderr",
     "output_type": "stream",
     "text": [
      "C:\\Users\\manik\\AppData\\Local\\Temp\\ipykernel_26292\\2745704466.py:1: FutureWarning: A value is trying to be set on a copy of a DataFrame or Series through chained assignment using an inplace method.\n",
      "The behavior will change in pandas 3.0. This inplace method will never work because the intermediate object on which we are setting values always behaves as a copy.\n",
      "\n",
      "For example, when doing 'df[col].method(value, inplace=True)', try using 'df.method({col: value}, inplace=True)' or df[col] = df[col].method(value) instead, to perform the operation inplace on the original object.\n",
      "\n",
      "\n",
      "  df1['gender'].fillna('Male',inplace=True)\n"
     ]
    }
   ],
   "source": [
    "df1['gender'].fillna('Male',inplace=True)"
   ]
  },
  {
   "cell_type": "code",
   "execution_count": 18,
   "id": "0dd96794",
   "metadata": {},
   "outputs": [
    {
     "data": {
      "text/plain": [
       "array(['Female', 'Male'], dtype=object)"
      ]
     },
     "execution_count": 18,
     "metadata": {},
     "output_type": "execute_result"
    }
   ],
   "source": [
    "df1['gender'].unique()"
   ]
  },
  {
   "cell_type": "code",
   "execution_count": 19,
   "id": "76e5a1a8",
   "metadata": {},
   "outputs": [
    {
     "name": "stdout",
     "output_type": "stream",
     "text": [
      "customerID: ['7590-VHVEG' '5575-GNVDE' '3668-QPYBK' ... '4801-JZAZL' '8361-LTMKD'\n",
      " '3186-AJIEK']\n",
      "gender: ['Female' 'Male']\n",
      "SeniorCitizen: [0 1]\n",
      "Dependents: ['No' 'Yes']\n",
      "tenure: [ 1 34  2 45  8 22 10 28 62 13 16 58 49 25 69 52 71 21 12 30 47 72 17 27\n",
      "  5 46 11 70 63 43 15 60 18 66  9  3 31 50 64 56  7 42 35 48 29 65 38 68\n",
      " 32 55 37 36 41  6  4 33 67 23 57 61 14 20 53 40 59 24 44 19 54 51 26  0\n",
      " 39]\n",
      "PhoneService: ['No' 'Yes']\n",
      "MultipleLines: ['No phone service' 'No' 'Yes']\n",
      "InternetService: ['DSL' 'Fiber optic' 'No']\n",
      "OnlineSecurity: ['No' 'Yes' 'No internet service']\n",
      "OnlineBackup: ['Yes' 'No' 'No internet service']\n",
      "DeviceProtection: ['No' 'Yes' 'No internet service']\n",
      "TechSupport: ['No' 'Yes' 'No internet service']\n",
      "StreamingTV: ['No' 'Yes' nan 'No internet service']\n",
      "StreamingMovies: ['No' 'Yes' nan 'No internet service']\n",
      "Contract: ['Month-to-month' 'One year' 'Two year']\n",
      "PaperlessBilling: ['Yes' 'No']\n",
      "PaymentMethod: ['Electronic check' 'Mailed check' 'Bank transfer (automatic)'\n",
      " 'Credit card (automatic)']\n",
      "MonthlyCharges: [29.85 56.95 53.85 ... 63.1  44.2  78.7 ]\n",
      "TotalCharges: [29.85 1889.5 108.15 ... 346.45 306.6 6844.5]\n",
      "numAdminTickets: [ 0.  1.  5.  2.  4. nan  3.]\n",
      "numTechTickets: [0 3 2 4 1 6 5 7 8 9]\n",
      "Churn: ['No' 'Yes']\n",
      "Location: ['North - New York' 'West - California' 'East - Illinois'\n",
      " 'West - Illinois' 'South - California' 'East - Texas' 'North - Ohio'\n",
      " 'North - Florida' 'South - Florida' 'North - California' 'West - Florida'\n",
      " 'East - California' 'East - Florida' 'West - Texas' 'North - Texas'\n",
      " 'West - New York' 'South - Ohio' 'South - Illinois' 'East - New York'\n",
      " 'North - Illinois' 'South - Texas' 'East - Ohio' 'South - New York'\n",
      " 'West - Ohio']\n"
     ]
    }
   ],
   "source": [
    "for col in df1.columns:\n",
    "    print(f\"{col}: {df1[col].unique()}\")\n",
    "    "
   ]
  },
  {
   "cell_type": "code",
   "execution_count": 20,
   "id": "0bdd8d18",
   "metadata": {},
   "outputs": [
    {
     "data": {
      "text/html": [
       "<div>\n",
       "<style scoped>\n",
       "    .dataframe tbody tr th:only-of-type {\n",
       "        vertical-align: middle;\n",
       "    }\n",
       "\n",
       "    .dataframe tbody tr th {\n",
       "        vertical-align: top;\n",
       "    }\n",
       "\n",
       "    .dataframe thead th {\n",
       "        text-align: right;\n",
       "    }\n",
       "</style>\n",
       "<table border=\"1\" class=\"dataframe\">\n",
       "  <thead>\n",
       "    <tr style=\"text-align: right;\">\n",
       "      <th></th>\n",
       "      <th>gender</th>\n",
       "      <th>count</th>\n",
       "    </tr>\n",
       "  </thead>\n",
       "  <tbody>\n",
       "    <tr>\n",
       "      <th>0</th>\n",
       "      <td>Female</td>\n",
       "      <td>3314</td>\n",
       "    </tr>\n",
       "    <tr>\n",
       "      <th>1</th>\n",
       "      <td>Male</td>\n",
       "      <td>3729</td>\n",
       "    </tr>\n",
       "  </tbody>\n",
       "</table>\n",
       "</div>"
      ],
      "text/plain": [
       "   gender  count\n",
       "0  Female   3314\n",
       "1    Male   3729"
      ]
     },
     "execution_count": 20,
     "metadata": {},
     "output_type": "execute_result"
    }
   ],
   "source": [
    "df1.groupby('gender').size().reset_index(name=\"count\")"
   ]
  },
  {
   "cell_type": "code",
   "execution_count": 21,
   "id": "4da9983f",
   "metadata": {},
   "outputs": [
    {
     "name": "stdout",
     "output_type": "stream",
     "text": [
      "<class 'pandas.core.frame.DataFrame'>\n",
      "RangeIndex: 7043 entries, 0 to 7042\n",
      "Data columns (total 23 columns):\n",
      " #   Column            Non-Null Count  Dtype  \n",
      "---  ------            --------------  -----  \n",
      " 0   customerID        7043 non-null   object \n",
      " 1   gender            7043 non-null   object \n",
      " 2   SeniorCitizen     7043 non-null   int64  \n",
      " 3   Dependents        7043 non-null   object \n",
      " 4   tenure            7043 non-null   int64  \n",
      " 5   PhoneService      7043 non-null   object \n",
      " 6   MultipleLines     7043 non-null   object \n",
      " 7   InternetService   7043 non-null   object \n",
      " 8   OnlineSecurity    7043 non-null   object \n",
      " 9   OnlineBackup      7043 non-null   object \n",
      " 10  DeviceProtection  7043 non-null   object \n",
      " 11  TechSupport       7043 non-null   object \n",
      " 12  StreamingTV       6616 non-null   object \n",
      " 13  StreamingMovies   6537 non-null   object \n",
      " 14  Contract          7043 non-null   object \n",
      " 15  PaperlessBilling  7043 non-null   object \n",
      " 16  PaymentMethod     7043 non-null   object \n",
      " 17  MonthlyCharges    7043 non-null   float64\n",
      " 18  TotalCharges      7043 non-null   object \n",
      " 19  numAdminTickets   6451 non-null   float64\n",
      " 20  numTechTickets    7043 non-null   int64  \n",
      " 21  Churn             7043 non-null   object \n",
      " 22  Location          7043 non-null   object \n",
      "dtypes: float64(2), int64(3), object(18)\n",
      "memory usage: 1.2+ MB\n"
     ]
    }
   ],
   "source": [
    "df1.info()"
   ]
  },
  {
   "cell_type": "code",
   "execution_count": 22,
   "id": "f82e1ddb",
   "metadata": {},
   "outputs": [
    {
     "data": {
      "text/plain": [
       "MultipleLines     PhoneService\n",
       "No                Yes             3390\n",
       "No phone service  No               682\n",
       "Yes               Yes             2971\n",
       "dtype: int64"
      ]
     },
     "execution_count": 22,
     "metadata": {},
     "output_type": "execute_result"
    }
   ],
   "source": [
    "df1.groupby(['MultipleLines','PhoneService']).size()"
   ]
  },
  {
   "cell_type": "code",
   "execution_count": 23,
   "id": "a44c32c7",
   "metadata": {},
   "outputs": [],
   "source": [
    "df1.MultipleLines = df1['MultipleLines'].replace('No phone service','No')"
   ]
  },
  {
   "cell_type": "code",
   "execution_count": 24,
   "id": "f6fe5994",
   "metadata": {},
   "outputs": [
    {
     "data": {
      "text/plain": [
       "MultipleLines  PhoneService\n",
       "No             No               682\n",
       "               Yes             3390\n",
       "Yes            Yes             2971\n",
       "dtype: int64"
      ]
     },
     "execution_count": 24,
     "metadata": {},
     "output_type": "execute_result"
    }
   ],
   "source": [
    "df1.groupby(['MultipleLines','PhoneService']).size()\n"
   ]
  },
  {
   "cell_type": "code",
   "execution_count": 25,
   "id": "b3a7a59c",
   "metadata": {},
   "outputs": [
    {
     "data": {
      "text/plain": [
       "array(['No', 'Yes'], dtype=object)"
      ]
     },
     "execution_count": 25,
     "metadata": {},
     "output_type": "execute_result"
    }
   ],
   "source": [
    "df1.MultipleLines.unique()"
   ]
  },
  {
   "cell_type": "code",
   "execution_count": 26,
   "id": "0efae2ee",
   "metadata": {},
   "outputs": [
    {
     "data": {
      "text/plain": [
       "InternetService  OnlineSecurity       OnlineBackup       \n",
       "DSL              No                   No                      792\n",
       "                                      Yes                     449\n",
       "                 Yes                  No                      543\n",
       "                                      Yes                     637\n",
       "Fiber optic      No                   No                     1403\n",
       "                                      Yes                     854\n",
       "                 Yes                  No                      350\n",
       "                                      Yes                     489\n",
       "No               No internet service  No internet service    1526\n",
       "dtype: int64"
      ]
     },
     "execution_count": 26,
     "metadata": {},
     "output_type": "execute_result"
    }
   ],
   "source": [
    "cols = ['InternetService', 'OnlineSecurity', 'OnlineBackup']\n",
    "df1.groupby(cols).size()"
   ]
  },
  {
   "cell_type": "code",
   "execution_count": 27,
   "id": "2a844daf",
   "metadata": {},
   "outputs": [],
   "source": [
    "cols = ['OnlineSecurity', 'OnlineBackup']\n",
    "df1[cols] = df1[cols].replace('No internet service','No')\n"
   ]
  },
  {
   "cell_type": "code",
   "execution_count": 28,
   "id": "34b63039",
   "metadata": {},
   "outputs": [
    {
     "name": "stdout",
     "output_type": "stream",
     "text": [
      "customerID: ['7590-VHVEG' '5575-GNVDE' '3668-QPYBK' ... '4801-JZAZL' '8361-LTMKD'\n",
      " '3186-AJIEK']\n",
      "gender: ['Female' 'Male']\n",
      "SeniorCitizen: [0 1]\n",
      "Dependents: ['No' 'Yes']\n",
      "tenure: [ 1 34  2 45  8 22 10 28 62 13 16 58 49 25 69 52 71 21 12 30 47 72 17 27\n",
      "  5 46 11 70 63 43 15 60 18 66  9  3 31 50 64 56  7 42 35 48 29 65 38 68\n",
      " 32 55 37 36 41  6  4 33 67 23 57 61 14 20 53 40 59 24 44 19 54 51 26  0\n",
      " 39]\n",
      "PhoneService: ['No' 'Yes']\n",
      "MultipleLines: ['No' 'Yes']\n",
      "InternetService: ['DSL' 'Fiber optic' 'No']\n",
      "OnlineSecurity: ['No' 'Yes']\n",
      "OnlineBackup: ['Yes' 'No']\n",
      "DeviceProtection: ['No' 'Yes' 'No internet service']\n",
      "TechSupport: ['No' 'Yes' 'No internet service']\n",
      "StreamingTV: ['No' 'Yes' nan 'No internet service']\n",
      "StreamingMovies: ['No' 'Yes' nan 'No internet service']\n",
      "Contract: ['Month-to-month' 'One year' 'Two year']\n",
      "PaperlessBilling: ['Yes' 'No']\n",
      "PaymentMethod: ['Electronic check' 'Mailed check' 'Bank transfer (automatic)'\n",
      " 'Credit card (automatic)']\n",
      "MonthlyCharges: [29.85 56.95 53.85 ... 63.1  44.2  78.7 ]\n",
      "TotalCharges: [29.85 1889.5 108.15 ... 346.45 306.6 6844.5]\n",
      "numAdminTickets: [ 0.  1.  5.  2.  4. nan  3.]\n",
      "numTechTickets: [0 3 2 4 1 6 5 7 8 9]\n",
      "Churn: ['No' 'Yes']\n",
      "Location: ['North - New York' 'West - California' 'East - Illinois'\n",
      " 'West - Illinois' 'South - California' 'East - Texas' 'North - Ohio'\n",
      " 'North - Florida' 'South - Florida' 'North - California' 'West - Florida'\n",
      " 'East - California' 'East - Florida' 'West - Texas' 'North - Texas'\n",
      " 'West - New York' 'South - Ohio' 'South - Illinois' 'East - New York'\n",
      " 'North - Illinois' 'South - Texas' 'East - Ohio' 'South - New York'\n",
      " 'West - Ohio']\n"
     ]
    }
   ],
   "source": [
    "for col in df1.columns:\n",
    "    print(f\"{col}: {df1[col].unique()}\")\n",
    "    "
   ]
  },
  {
   "cell_type": "code",
   "execution_count": 29,
   "id": "dbca20ca",
   "metadata": {},
   "outputs": [
    {
     "data": {
      "text/plain": [
       "DeviceProtection\n",
       "No                     3095\n",
       "No internet service    1526\n",
       "Yes                    2422\n",
       "dtype: int64"
      ]
     },
     "execution_count": 29,
     "metadata": {},
     "output_type": "execute_result"
    }
   ],
   "source": [
    "df1.groupby(df1['DeviceProtection']).size()"
   ]
  },
  {
   "cell_type": "code",
   "execution_count": 30,
   "id": "9bc0e7e8",
   "metadata": {},
   "outputs": [],
   "source": [
    "df1.DeviceProtection = df1.DeviceProtection.replace('No internet service','No')"
   ]
  },
  {
   "cell_type": "code",
   "execution_count": 31,
   "id": "35700943",
   "metadata": {},
   "outputs": [
    {
     "data": {
      "text/plain": [
       "DeviceProtection\n",
       "No     4621\n",
       "Yes    2422\n",
       "dtype: int64"
      ]
     },
     "execution_count": 31,
     "metadata": {},
     "output_type": "execute_result"
    }
   ],
   "source": [
    "df1.groupby(df1['DeviceProtection']).size()"
   ]
  },
  {
   "cell_type": "code",
   "execution_count": 32,
   "id": "ccfaefe1",
   "metadata": {},
   "outputs": [
    {
     "name": "stdout",
     "output_type": "stream",
     "text": [
      "customerID: ['7590-VHVEG' '5575-GNVDE' '3668-QPYBK' ... '4801-JZAZL' '8361-LTMKD'\n",
      " '3186-AJIEK']\n",
      "gender: ['Female' 'Male']\n",
      "SeniorCitizen: [0 1]\n",
      "Dependents: ['No' 'Yes']\n",
      "tenure: [ 1 34  2 45  8 22 10 28 62 13 16 58 49 25 69 52 71 21 12 30 47 72 17 27\n",
      "  5 46 11 70 63 43 15 60 18 66  9  3 31 50 64 56  7 42 35 48 29 65 38 68\n",
      " 32 55 37 36 41  6  4 33 67 23 57 61 14 20 53 40 59 24 44 19 54 51 26  0\n",
      " 39]\n",
      "PhoneService: ['No' 'Yes']\n",
      "MultipleLines: ['No' 'Yes']\n",
      "InternetService: ['DSL' 'Fiber optic' 'No']\n",
      "OnlineSecurity: ['No' 'Yes']\n",
      "OnlineBackup: ['Yes' 'No']\n",
      "DeviceProtection: ['No' 'Yes']\n",
      "TechSupport: ['No' 'Yes' 'No internet service']\n",
      "StreamingTV: ['No' 'Yes' nan 'No internet service']\n",
      "StreamingMovies: ['No' 'Yes' nan 'No internet service']\n",
      "Contract: ['Month-to-month' 'One year' 'Two year']\n",
      "PaperlessBilling: ['Yes' 'No']\n",
      "PaymentMethod: ['Electronic check' 'Mailed check' 'Bank transfer (automatic)'\n",
      " 'Credit card (automatic)']\n",
      "MonthlyCharges: [29.85 56.95 53.85 ... 63.1  44.2  78.7 ]\n",
      "TotalCharges: [29.85 1889.5 108.15 ... 346.45 306.6 6844.5]\n",
      "numAdminTickets: [ 0.  1.  5.  2.  4. nan  3.]\n",
      "numTechTickets: [0 3 2 4 1 6 5 7 8 9]\n",
      "Churn: ['No' 'Yes']\n",
      "Location: ['North - New York' 'West - California' 'East - Illinois'\n",
      " 'West - Illinois' 'South - California' 'East - Texas' 'North - Ohio'\n",
      " 'North - Florida' 'South - Florida' 'North - California' 'West - Florida'\n",
      " 'East - California' 'East - Florida' 'West - Texas' 'North - Texas'\n",
      " 'West - New York' 'South - Ohio' 'South - Illinois' 'East - New York'\n",
      " 'North - Illinois' 'South - Texas' 'East - Ohio' 'South - New York'\n",
      " 'West - Ohio']\n"
     ]
    }
   ],
   "source": [
    "for col in df1.columns:\n",
    "    print(f\"{col}: {df1[col].unique()}\")\n",
    "    "
   ]
  },
  {
   "cell_type": "code",
   "execution_count": 33,
   "id": "38327613",
   "metadata": {},
   "outputs": [
    {
     "data": {
      "text/plain": [
       "InternetService  TechSupport          StreamingTV          StreamingMovies    \n",
       "DSL              No                   No                   No                      614\n",
       "                                                           Yes                     148\n",
       "                                      Yes                  No                      132\n",
       "                                                           Yes                     189\n",
       "                 Yes                  No                   No                      364\n",
       "                                                           Yes                     158\n",
       "                                      Yes                  No                      150\n",
       "                                                           Yes                     371\n",
       "Fiber optic      No                   No                   No                      651\n",
       "                                                           Yes                     291\n",
       "                                      Yes                  No                      304\n",
       "                                                           Yes                     686\n",
       "                 Yes                  No                   No                      117\n",
       "                                                           Yes                      87\n",
       "                                      Yes                  No                       84\n",
       "                                                           Yes                     459\n",
       "No               No internet service  No internet service  No internet service    1336\n",
       "dtype: int64"
      ]
     },
     "execution_count": 33,
     "metadata": {},
     "output_type": "execute_result"
    }
   ],
   "source": [
    "col=['InternetService','TechSupport','StreamingTV','StreamingMovies']\n",
    "df1.groupby(col).size()"
   ]
  },
  {
   "cell_type": "code",
   "execution_count": 34,
   "id": "a89947ff",
   "metadata": {},
   "outputs": [
    {
     "data": {
      "text/plain": [
       "InternetService  TechSupport  StreamingTV  StreamingMovies\n",
       "DSL              No           No           No                  614\n",
       "                                           Yes                 148\n",
       "                              Yes          No                  132\n",
       "                                           Yes                 189\n",
       "                 Yes          No           No                  364\n",
       "                                           Yes                 158\n",
       "                              Yes          No                  150\n",
       "                                           Yes                 371\n",
       "Fiber optic      No           No           No                  651\n",
       "                                           Yes                 291\n",
       "                              Yes          No                  304\n",
       "                                           Yes                 686\n",
       "                 Yes          No           No                  117\n",
       "                                           Yes                  87\n",
       "                              Yes          No                   84\n",
       "                                           Yes                 459\n",
       "No               No           No           No                 1336\n",
       "dtype: int64"
      ]
     },
     "execution_count": 34,
     "metadata": {},
     "output_type": "execute_result"
    }
   ],
   "source": [
    "col = ['InternetService','TechSupport','StreamingTV','StreamingMovies']\n",
    "\n",
    "# Temporary replacement just for testing\n",
    "df1[col].replace('No internet service', 'No').groupby(col).size()\n"
   ]
  },
  {
   "cell_type": "code",
   "execution_count": 35,
   "id": "44aee3f6",
   "metadata": {},
   "outputs": [
    {
     "data": {
      "text/plain": [
       "InternetService  TechSupport  StreamingTV  StreamingMovies\n",
       "DSL              No           No           No                  614\n",
       "                                           Yes                 148\n",
       "                              Yes          No                  132\n",
       "                                           Yes                 189\n",
       "                 Yes          No           No                  364\n",
       "                                           Yes                 158\n",
       "                              Yes          No                  150\n",
       "                                           Yes                 371\n",
       "Fiber optic      No           No           No                  651\n",
       "                                           Yes                 291\n",
       "                              Yes          No                  304\n",
       "                                           Yes                 686\n",
       "                 Yes          No           No                  117\n",
       "                                           Yes                  87\n",
       "                              Yes          No                   84\n",
       "                                           Yes                 459\n",
       "No               No           No           No                 1336\n",
       "dtype: int64"
      ]
     },
     "execution_count": 35,
     "metadata": {},
     "output_type": "execute_result"
    }
   ],
   "source": [
    "col=['InternetService','TechSupport','StreamingTV','StreamingMovies']\n",
    "df1[col] = df1[col].replace( 'No internet service','No')\n",
    "df1.groupby(col).size()"
   ]
  },
  {
   "cell_type": "code",
   "execution_count": 36,
   "id": "8aa2f214",
   "metadata": {},
   "outputs": [
    {
     "name": "stdout",
     "output_type": "stream",
     "text": [
      "customerID: ['7590-VHVEG' '5575-GNVDE' '3668-QPYBK' ... '4801-JZAZL' '8361-LTMKD'\n",
      " '3186-AJIEK']\n",
      "gender: ['Female' 'Male']\n",
      "SeniorCitizen: [0 1]\n",
      "Dependents: ['No' 'Yes']\n",
      "tenure: [ 1 34  2 45  8 22 10 28 62 13 16 58 49 25 69 52 71 21 12 30 47 72 17 27\n",
      "  5 46 11 70 63 43 15 60 18 66  9  3 31 50 64 56  7 42 35 48 29 65 38 68\n",
      " 32 55 37 36 41  6  4 33 67 23 57 61 14 20 53 40 59 24 44 19 54 51 26  0\n",
      " 39]\n",
      "PhoneService: ['No' 'Yes']\n",
      "MultipleLines: ['No' 'Yes']\n",
      "InternetService: ['DSL' 'Fiber optic' 'No']\n",
      "OnlineSecurity: ['No' 'Yes']\n",
      "OnlineBackup: ['Yes' 'No']\n",
      "DeviceProtection: ['No' 'Yes']\n",
      "TechSupport: ['No' 'Yes']\n",
      "StreamingTV: ['No' 'Yes' nan]\n",
      "StreamingMovies: ['No' 'Yes' nan]\n",
      "Contract: ['Month-to-month' 'One year' 'Two year']\n",
      "PaperlessBilling: ['Yes' 'No']\n",
      "PaymentMethod: ['Electronic check' 'Mailed check' 'Bank transfer (automatic)'\n",
      " 'Credit card (automatic)']\n",
      "MonthlyCharges: [29.85 56.95 53.85 ... 63.1  44.2  78.7 ]\n",
      "TotalCharges: [29.85 1889.5 108.15 ... 346.45 306.6 6844.5]\n",
      "numAdminTickets: [ 0.  1.  5.  2.  4. nan  3.]\n",
      "numTechTickets: [0 3 2 4 1 6 5 7 8 9]\n",
      "Churn: ['No' 'Yes']\n",
      "Location: ['North - New York' 'West - California' 'East - Illinois'\n",
      " 'West - Illinois' 'South - California' 'East - Texas' 'North - Ohio'\n",
      " 'North - Florida' 'South - Florida' 'North - California' 'West - Florida'\n",
      " 'East - California' 'East - Florida' 'West - Texas' 'North - Texas'\n",
      " 'West - New York' 'South - Ohio' 'South - Illinois' 'East - New York'\n",
      " 'North - Illinois' 'South - Texas' 'East - Ohio' 'South - New York'\n",
      " 'West - Ohio']\n"
     ]
    }
   ],
   "source": [
    "for col in df1.columns:\n",
    "    print(f\"{col}: {df1[col].unique()}\")\n",
    "    "
   ]
  },
  {
   "cell_type": "code",
   "execution_count": 37,
   "id": "ba44041a",
   "metadata": {},
   "outputs": [
    {
     "name": "stdout",
     "output_type": "stream",
     "text": [
      "No\n",
      "No\n"
     ]
    }
   ],
   "source": [
    "print(df1['StreamingMovies'].mode()[0])\n",
    "print(df1['StreamingTV'].mode()[0])"
   ]
  },
  {
   "cell_type": "code",
   "execution_count": 38,
   "id": "7ab404a3",
   "metadata": {},
   "outputs": [
    {
     "data": {
      "text/plain": [
       "0        No\n",
       "1        No\n",
       "2        No\n",
       "3        No\n",
       "4        No\n",
       "       ... \n",
       "7038    Yes\n",
       "7039    Yes\n",
       "7040     No\n",
       "7041     No\n",
       "7042    Yes\n",
       "Name: StreamingMovies, Length: 7043, dtype: object"
      ]
     },
     "execution_count": 38,
     "metadata": {},
     "output_type": "execute_result"
    }
   ],
   "source": [
    "df1['StreamingMovies'].fillna(\"No\")"
   ]
  },
  {
   "cell_type": "code",
   "execution_count": 39,
   "id": "bc1926c8",
   "metadata": {},
   "outputs": [
    {
     "data": {
      "text/plain": [
       "array(['No', 'Yes', nan], dtype=object)"
      ]
     },
     "execution_count": 39,
     "metadata": {},
     "output_type": "execute_result"
    }
   ],
   "source": [
    "df1.StreamingMovies.unique()"
   ]
  },
  {
   "cell_type": "code",
   "execution_count": 40,
   "id": "586aa9a1",
   "metadata": {},
   "outputs": [],
   "source": [
    "df1['StreamingMovies']=df1['StreamingMovies'].fillna(\"No\")"
   ]
  },
  {
   "cell_type": "code",
   "execution_count": 41,
   "id": "9678748a",
   "metadata": {},
   "outputs": [
    {
     "data": {
      "text/plain": [
       "array(['No', 'Yes'], dtype=object)"
      ]
     },
     "execution_count": 41,
     "metadata": {},
     "output_type": "execute_result"
    }
   ],
   "source": [
    "df1.StreamingMovies.unique()"
   ]
  },
  {
   "cell_type": "code",
   "execution_count": 42,
   "id": "07dff135",
   "metadata": {},
   "outputs": [
    {
     "name": "stdout",
     "output_type": "stream",
     "text": [
      "customerID: ['7590-VHVEG' '5575-GNVDE' '3668-QPYBK' ... '4801-JZAZL' '8361-LTMKD'\n",
      " '3186-AJIEK']\n",
      "gender: ['Female' 'Male']\n",
      "SeniorCitizen: [0 1]\n",
      "Dependents: ['No' 'Yes']\n",
      "tenure: [ 1 34  2 45  8 22 10 28 62 13 16 58 49 25 69 52 71 21 12 30 47 72 17 27\n",
      "  5 46 11 70 63 43 15 60 18 66  9  3 31 50 64 56  7 42 35 48 29 65 38 68\n",
      " 32 55 37 36 41  6  4 33 67 23 57 61 14 20 53 40 59 24 44 19 54 51 26  0\n",
      " 39]\n",
      "PhoneService: ['No' 'Yes']\n",
      "MultipleLines: ['No' 'Yes']\n",
      "InternetService: ['DSL' 'Fiber optic' 'No']\n",
      "OnlineSecurity: ['No' 'Yes']\n",
      "OnlineBackup: ['Yes' 'No']\n",
      "DeviceProtection: ['No' 'Yes']\n",
      "TechSupport: ['No' 'Yes']\n",
      "StreamingTV: ['No' 'Yes' nan]\n",
      "StreamingMovies: ['No' 'Yes']\n",
      "Contract: ['Month-to-month' 'One year' 'Two year']\n",
      "PaperlessBilling: ['Yes' 'No']\n",
      "PaymentMethod: ['Electronic check' 'Mailed check' 'Bank transfer (automatic)'\n",
      " 'Credit card (automatic)']\n",
      "MonthlyCharges: [29.85 56.95 53.85 ... 63.1  44.2  78.7 ]\n",
      "TotalCharges: [29.85 1889.5 108.15 ... 346.45 306.6 6844.5]\n",
      "numAdminTickets: [ 0.  1.  5.  2.  4. nan  3.]\n",
      "numTechTickets: [0 3 2 4 1 6 5 7 8 9]\n",
      "Churn: ['No' 'Yes']\n",
      "Location: ['North - New York' 'West - California' 'East - Illinois'\n",
      " 'West - Illinois' 'South - California' 'East - Texas' 'North - Ohio'\n",
      " 'North - Florida' 'South - Florida' 'North - California' 'West - Florida'\n",
      " 'East - California' 'East - Florida' 'West - Texas' 'North - Texas'\n",
      " 'West - New York' 'South - Ohio' 'South - Illinois' 'East - New York'\n",
      " 'North - Illinois' 'South - Texas' 'East - Ohio' 'South - New York'\n",
      " 'West - Ohio']\n"
     ]
    }
   ],
   "source": [
    "for col in df1.columns:\n",
    "    print(f\"{col}: {df1[col].unique()}\")\n",
    "    "
   ]
  },
  {
   "cell_type": "code",
   "execution_count": 43,
   "id": "35571647",
   "metadata": {},
   "outputs": [],
   "source": [
    "df1['StreamingTV'] = df1['StreamingTV'].fillna('No')"
   ]
  },
  {
   "cell_type": "code",
   "execution_count": 44,
   "id": "08332bcd",
   "metadata": {},
   "outputs": [
    {
     "name": "stdout",
     "output_type": "stream",
     "text": [
      "customerID: ['7590-VHVEG' '5575-GNVDE' '3668-QPYBK' ... '4801-JZAZL' '8361-LTMKD'\n",
      " '3186-AJIEK']\n",
      "gender: ['Female' 'Male']\n",
      "SeniorCitizen: [0 1]\n",
      "Dependents: ['No' 'Yes']\n",
      "tenure: [ 1 34  2 45  8 22 10 28 62 13 16 58 49 25 69 52 71 21 12 30 47 72 17 27\n",
      "  5 46 11 70 63 43 15 60 18 66  9  3 31 50 64 56  7 42 35 48 29 65 38 68\n",
      " 32 55 37 36 41  6  4 33 67 23 57 61 14 20 53 40 59 24 44 19 54 51 26  0\n",
      " 39]\n",
      "PhoneService: ['No' 'Yes']\n",
      "MultipleLines: ['No' 'Yes']\n",
      "InternetService: ['DSL' 'Fiber optic' 'No']\n",
      "OnlineSecurity: ['No' 'Yes']\n",
      "OnlineBackup: ['Yes' 'No']\n",
      "DeviceProtection: ['No' 'Yes']\n",
      "TechSupport: ['No' 'Yes']\n",
      "StreamingTV: ['No' 'Yes']\n",
      "StreamingMovies: ['No' 'Yes']\n",
      "Contract: ['Month-to-month' 'One year' 'Two year']\n",
      "PaperlessBilling: ['Yes' 'No']\n",
      "PaymentMethod: ['Electronic check' 'Mailed check' 'Bank transfer (automatic)'\n",
      " 'Credit card (automatic)']\n",
      "MonthlyCharges: [29.85 56.95 53.85 ... 63.1  44.2  78.7 ]\n",
      "TotalCharges: [29.85 1889.5 108.15 ... 346.45 306.6 6844.5]\n",
      "numAdminTickets: [ 0.  1.  5.  2.  4. nan  3.]\n",
      "numTechTickets: [0 3 2 4 1 6 5 7 8 9]\n",
      "Churn: ['No' 'Yes']\n",
      "Location: ['North - New York' 'West - California' 'East - Illinois'\n",
      " 'West - Illinois' 'South - California' 'East - Texas' 'North - Ohio'\n",
      " 'North - Florida' 'South - Florida' 'North - California' 'West - Florida'\n",
      " 'East - California' 'East - Florida' 'West - Texas' 'North - Texas'\n",
      " 'West - New York' 'South - Ohio' 'South - Illinois' 'East - New York'\n",
      " 'North - Illinois' 'South - Texas' 'East - Ohio' 'South - New York'\n",
      " 'West - Ohio']\n"
     ]
    }
   ],
   "source": [
    "for col in df1.columns:\n",
    "    print(f\"{col}: {df1[col].unique()}\")\n",
    "    "
   ]
  },
  {
   "cell_type": "code",
   "execution_count": 45,
   "id": "47ea98d8",
   "metadata": {},
   "outputs": [
    {
     "name": "stdout",
     "output_type": "stream",
     "text": [
      "float64\n",
      "[ 0.  1.  5.  2.  4. nan  3.]\n",
      "\n",
      "0.51\n"
     ]
    }
   ],
   "source": [
    "print(df1['numAdminTickets'].dtype)\n",
    "print(df1['numAdminTickets'].unique())\n",
    "print()\n",
    "print(df1['numAdminTickets'].mean().round(2))"
   ]
  },
  {
   "cell_type": "code",
   "execution_count": 46,
   "id": "dc74f1bb",
   "metadata": {},
   "outputs": [
    {
     "data": {
      "image/png": "[encoded data removed]",
      "text/plain": [
       "<Figure size 640x480 with 1 Axes>"
      ]
     },
     "metadata": {},
     "output_type": "display_data"
    }
   ],
   "source": [
    "df1['numAdminTickets'].hist(bins=6, edgecolor='black')\n",
    "plt.xlabel('Number of Admin Tickets')\n",
    "plt.ylabel('Count of Customers')\n",
    "plt.title('Distribution of Admin Tickets')\n",
    "plt.show()\n"
   ]
  },
  {
   "cell_type": "code",
   "execution_count": 47,
   "id": "73da751b",
   "metadata": {},
   "outputs": [
    {
     "name": "stdout",
     "output_type": "stream",
     "text": [
      "0       0.0\n",
      "1       0.0\n",
      "2       0.0\n",
      "3       0.0\n",
      "4       0.0\n",
      "       ... \n",
      "7038    0.0\n",
      "7039    0.0\n",
      "7040    0.0\n",
      "7041    0.0\n",
      "7042    2.0\n",
      "Name: numAdminTickets, Length: 7043, dtype: float64\n"
     ]
    }
   ],
   "source": [
    "# Create a temporary version with NaN filled\n",
    "filled_column = df1['numAdminTickets'].fillna(0)\n",
    "print(filled_column)"
   ]
  },
  {
   "cell_type": "code",
   "execution_count": 48,
   "id": "19556a0f",
   "metadata": {},
   "outputs": [
    {
     "data": {
      "text/plain": [
       "array([0., 1., 5., 2., 4., 3.])"
      ]
     },
     "execution_count": 48,
     "metadata": {},
     "output_type": "execute_result"
    }
   ],
   "source": [
    "filled_column.unique()\n",
    "# print(filled_column.dtype)"
   ]
  },
  {
   "cell_type": "code",
   "execution_count": 49,
   "id": "f1a8faa6",
   "metadata": {},
   "outputs": [],
   "source": [
    "df1.numAdminTickets =df1['numAdminTickets'].fillna(0)"
   ]
  },
  {
   "cell_type": "code",
   "execution_count": 50,
   "id": "47732c91",
   "metadata": {},
   "outputs": [
    {
     "name": "stdout",
     "output_type": "stream",
     "text": [
      "customerID: ['7590-VHVEG' '5575-GNVDE' '3668-QPYBK' ... '4801-JZAZL' '8361-LTMKD'\n",
      " '3186-AJIEK']\n",
      "gender: ['Female' 'Male']\n",
      "SeniorCitizen: [0 1]\n",
      "Dependents: ['No' 'Yes']\n",
      "tenure: [ 1 34  2 45  8 22 10 28 62 13 16 58 49 25 69 52 71 21 12 30 47 72 17 27\n",
      "  5 46 11 70 63 43 15 60 18 66  9  3 31 50 64 56  7 42 35 48 29 65 38 68\n",
      " 32 55 37 36 41  6  4 33 67 23 57 61 14 20 53 40 59 24 44 19 54 51 26  0\n",
      " 39]\n",
      "PhoneService: ['No' 'Yes']\n",
      "MultipleLines: ['No' 'Yes']\n",
      "InternetService: ['DSL' 'Fiber optic' 'No']\n",
      "OnlineSecurity: ['No' 'Yes']\n",
      "OnlineBackup: ['Yes' 'No']\n",
      "DeviceProtection: ['No' 'Yes']\n",
      "TechSupport: ['No' 'Yes']\n",
      "StreamingTV: ['No' 'Yes']\n",
      "StreamingMovies: ['No' 'Yes']\n",
      "Contract: ['Month-to-month' 'One year' 'Two year']\n",
      "PaperlessBilling: ['Yes' 'No']\n",
      "PaymentMethod: ['Electronic check' 'Mailed check' 'Bank transfer (automatic)'\n",
      " 'Credit card (automatic)']\n",
      "MonthlyCharges: [29.85 56.95 53.85 ... 63.1  44.2  78.7 ]\n",
      "TotalCharges: [29.85 1889.5 108.15 ... 346.45 306.6 6844.5]\n",
      "numAdminTickets: [0. 1. 5. 2. 4. 3.]\n",
      "numTechTickets: [0 3 2 4 1 6 5 7 8 9]\n",
      "Churn: ['No' 'Yes']\n",
      "Location: ['North - New York' 'West - California' 'East - Illinois'\n",
      " 'West - Illinois' 'South - California' 'East - Texas' 'North - Ohio'\n",
      " 'North - Florida' 'South - Florida' 'North - California' 'West - Florida'\n",
      " 'East - California' 'East - Florida' 'West - Texas' 'North - Texas'\n",
      " 'West - New York' 'South - Ohio' 'South - Illinois' 'East - New York'\n",
      " 'North - Illinois' 'South - Texas' 'East - Ohio' 'South - New York'\n",
      " 'West - Ohio']\n"
     ]
    }
   ],
   "source": [
    "for col in df1.columns:\n",
    "    print(f\"{col}: {df1[col].unique()}\")"
   ]
  },
  {
   "cell_type": "code",
   "execution_count": 51,
   "id": "55f32d85",
   "metadata": {},
   "outputs": [
    {
     "name": "stdout",
     "output_type": "stream",
     "text": [
      "<class 'pandas.core.frame.DataFrame'>\n",
      "RangeIndex: 7043 entries, 0 to 7042\n",
      "Data columns (total 23 columns):\n",
      " #   Column            Non-Null Count  Dtype  \n",
      "---  ------            --------------  -----  \n",
      " 0   customerID        7043 non-null   object \n",
      " 1   gender            7043 non-null   object \n",
      " 2   SeniorCitizen     7043 non-null   int64  \n",
      " 3   Dependents        7043 non-null   object \n",
      " 4   tenure            7043 non-null   int64  \n",
      " 5   PhoneService      7043 non-null   object \n",
      " 6   MultipleLines     7043 non-null   object \n",
      " 7   InternetService   7043 non-null   object \n",
      " 8   OnlineSecurity    7043 non-null   object \n",
      " 9   OnlineBackup      7043 non-null   object \n",
      " 10  DeviceProtection  7043 non-null   object \n",
      " 11  TechSupport       7043 non-null   object \n",
      " 12  StreamingTV       7043 non-null   object \n",
      " 13  StreamingMovies   7043 non-null   object \n",
      " 14  Contract          7043 non-null   object \n",
      " 15  PaperlessBilling  7043 non-null   object \n",
      " 16  PaymentMethod     7043 non-null   object \n",
      " 17  MonthlyCharges    7043 non-null   float64\n",
      " 18  TotalCharges      7043 non-null   object \n",
      " 19  numAdminTickets   7043 non-null   float64\n",
      " 20  numTechTickets    7043 non-null   int64  \n",
      " 21  Churn             7043 non-null   object \n",
      " 22  Location          7043 non-null   object \n",
      "dtypes: float64(2), int64(3), object(18)\n",
      "memory usage: 1.2+ MB\n"
     ]
    }
   ],
   "source": [
    "df1.info()"
   ]
  },
  {
   "cell_type": "code",
   "execution_count": 52,
   "id": "fb7d2eed",
   "metadata": {},
   "outputs": [
    {
     "data": {
      "text/html": [
       "<div>\n",
       "<style scoped>\n",
       "    .dataframe tbody tr th:only-of-type {\n",
       "        vertical-align: middle;\n",
       "    }\n",
       "\n",
       "    .dataframe tbody tr th {\n",
       "        vertical-align: top;\n",
       "    }\n",
       "\n",
       "    .dataframe thead th {\n",
       "        text-align: right;\n",
       "    }\n",
       "</style>\n",
       "<table border=\"1\" class=\"dataframe\">\n",
       "  <thead>\n",
       "    <tr style=\"text-align: right;\">\n",
       "      <th></th>\n",
       "      <th>customerID</th>\n",
       "      <th>gender</th>\n",
       "      <th>SeniorCitizen</th>\n",
       "      <th>Dependents</th>\n",
       "      <th>tenure</th>\n",
       "      <th>PhoneService</th>\n",
       "      <th>MultipleLines</th>\n",
       "      <th>InternetService</th>\n",
       "      <th>OnlineSecurity</th>\n",
       "      <th>OnlineBackup</th>\n",
       "      <th>...</th>\n",
       "      <th>StreamingMovies</th>\n",
       "      <th>Contract</th>\n",
       "      <th>PaperlessBilling</th>\n",
       "      <th>PaymentMethod</th>\n",
       "      <th>MonthlyCharges</th>\n",
       "      <th>TotalCharges</th>\n",
       "      <th>numAdminTickets</th>\n",
       "      <th>numTechTickets</th>\n",
       "      <th>Churn</th>\n",
       "      <th>Location</th>\n",
       "    </tr>\n",
       "  </thead>\n",
       "  <tbody>\n",
       "    <tr>\n",
       "      <th>0</th>\n",
       "      <td>7590-VHVEG</td>\n",
       "      <td>Female</td>\n",
       "      <td>0</td>\n",
       "      <td>No</td>\n",
       "      <td>1</td>\n",
       "      <td>No</td>\n",
       "      <td>No phone service</td>\n",
       "      <td>DSL</td>\n",
       "      <td>No</td>\n",
       "      <td>Yes</td>\n",
       "      <td>...</td>\n",
       "      <td>No</td>\n",
       "      <td>Month-to-month</td>\n",
       "      <td>Yes</td>\n",
       "      <td>Electronic check</td>\n",
       "      <td>29.85</td>\n",
       "      <td>29.85</td>\n",
       "      <td>0.0</td>\n",
       "      <td>0</td>\n",
       "      <td>No</td>\n",
       "      <td>North - New York</td>\n",
       "    </tr>\n",
       "    <tr>\n",
       "      <th>1</th>\n",
       "      <td>5575-GNVDE</td>\n",
       "      <td>NaN</td>\n",
       "      <td>0</td>\n",
       "      <td>No</td>\n",
       "      <td>34</td>\n",
       "      <td>Yes</td>\n",
       "      <td>No</td>\n",
       "      <td>DSL</td>\n",
       "      <td>Yes</td>\n",
       "      <td>No</td>\n",
       "      <td>...</td>\n",
       "      <td>No</td>\n",
       "      <td>One year</td>\n",
       "      <td>No</td>\n",
       "      <td>Mailed check</td>\n",
       "      <td>56.95</td>\n",
       "      <td>1889.5</td>\n",
       "      <td>0.0</td>\n",
       "      <td>0</td>\n",
       "      <td>No</td>\n",
       "      <td>West - California</td>\n",
       "    </tr>\n",
       "    <tr>\n",
       "      <th>2</th>\n",
       "      <td>3668-QPYBK</td>\n",
       "      <td>Male</td>\n",
       "      <td>0</td>\n",
       "      <td>No</td>\n",
       "      <td>2</td>\n",
       "      <td>Yes</td>\n",
       "      <td>No</td>\n",
       "      <td>DSL</td>\n",
       "      <td>Yes</td>\n",
       "      <td>Yes</td>\n",
       "      <td>...</td>\n",
       "      <td>No</td>\n",
       "      <td>Month-to-month</td>\n",
       "      <td>Yes</td>\n",
       "      <td>Mailed check</td>\n",
       "      <td>53.85</td>\n",
       "      <td>108.15</td>\n",
       "      <td>0.0</td>\n",
       "      <td>0</td>\n",
       "      <td>Yes</td>\n",
       "      <td>East - Illinois</td>\n",
       "    </tr>\n",
       "    <tr>\n",
       "      <th>3</th>\n",
       "      <td>7795-CFOCW</td>\n",
       "      <td>Male</td>\n",
       "      <td>0</td>\n",
       "      <td>No</td>\n",
       "      <td>45</td>\n",
       "      <td>No</td>\n",
       "      <td>No phone service</td>\n",
       "      <td>DSL</td>\n",
       "      <td>Yes</td>\n",
       "      <td>No</td>\n",
       "      <td>...</td>\n",
       "      <td>No</td>\n",
       "      <td>One year</td>\n",
       "      <td>No</td>\n",
       "      <td>Bank transfer (automatic)</td>\n",
       "      <td>42.30</td>\n",
       "      <td>1840.75</td>\n",
       "      <td>0.0</td>\n",
       "      <td>3</td>\n",
       "      <td>No</td>\n",
       "      <td>West - Illinois</td>\n",
       "    </tr>\n",
       "    <tr>\n",
       "      <th>4</th>\n",
       "      <td>9237-HQITU</td>\n",
       "      <td>Female</td>\n",
       "      <td>0</td>\n",
       "      <td>No</td>\n",
       "      <td>2</td>\n",
       "      <td>Yes</td>\n",
       "      <td>No</td>\n",
       "      <td>Fiber optic</td>\n",
       "      <td>No</td>\n",
       "      <td>No</td>\n",
       "      <td>...</td>\n",
       "      <td>No</td>\n",
       "      <td>Month-to-month</td>\n",
       "      <td>Yes</td>\n",
       "      <td>Electronic check</td>\n",
       "      <td>70.70</td>\n",
       "      <td>151.65</td>\n",
       "      <td>0.0</td>\n",
       "      <td>0</td>\n",
       "      <td>Yes</td>\n",
       "      <td>East - Illinois</td>\n",
       "    </tr>\n",
       "  </tbody>\n",
       "</table>\n",
       "<p>5 rows × 23 columns</p>\n",
       "</div>"
      ],
      "text/plain": [
       "   customerID  gender  SeniorCitizen Dependents  tenure PhoneService  \\\n",
       "0  7590-VHVEG  Female              0         No       1           No   \n",
       "1  5575-GNVDE     NaN              0         No      34          Yes   \n",
       "2  3668-QPYBK    Male              0         No       2          Yes   \n",
       "3  7795-CFOCW    Male              0         No      45           No   \n",
       "4  9237-HQITU  Female              0         No       2          Yes   \n",
       "\n",
       "      MultipleLines InternetService OnlineSecurity OnlineBackup  ...  \\\n",
       "0  No phone service             DSL             No          Yes  ...   \n",
       "1                No             DSL            Yes           No  ...   \n",
       "2                No             DSL            Yes          Yes  ...   \n",
       "3  No phone service             DSL            Yes           No  ...   \n",
       "4                No     Fiber optic             No           No  ...   \n",
       "\n",
       "  StreamingMovies        Contract PaperlessBilling              PaymentMethod  \\\n",
       "0              No  Month-to-month              Yes           Electronic check   \n",
       "1              No        One year               No               Mailed check   \n",
       "2              No  Month-to-month              Yes               Mailed check   \n",
       "3              No        One year               No  Bank transfer (automatic)   \n",
       "4              No  Month-to-month              Yes           Electronic check   \n",
       "\n",
       "  MonthlyCharges TotalCharges numAdminTickets  numTechTickets Churn  \\\n",
       "0          29.85        29.85             0.0               0    No   \n",
       "1          56.95       1889.5             0.0               0    No   \n",
       "2          53.85       108.15             0.0               0   Yes   \n",
       "3          42.30      1840.75             0.0               3    No   \n",
       "4          70.70       151.65             0.0               0   Yes   \n",
       "\n",
       "            Location  \n",
       "0   North - New York  \n",
       "1  West - California  \n",
       "2    East - Illinois  \n",
       "3    West - Illinois  \n",
       "4    East - Illinois  \n",
       "\n",
       "[5 rows x 23 columns]"
      ]
     },
     "execution_count": 52,
     "metadata": {},
     "output_type": "execute_result"
    }
   ],
   "source": [
    "df.head()"
   ]
  },
  {
   "cell_type": "code",
   "execution_count": 54,
   "id": "53c39423",
   "metadata": {},
   "outputs": [],
   "source": [
    "df1.to_excel(\"cleaned_data1.xlsx\")"
   ]
  }
 ],
 "metadata": {
  "kernelspec": {
   "display_name": "Python 3",
   "language": "python",
   "name": "python3"
  },
  "language_info": {
   "codemirror_mode": {
    "name": "ipython",
    "version": 3
   },
   "file_extension": ".py",
   "mimetype": "text/x-python",
   "name": "python",
   "nbconvert_exporter": "python",
   "pygments_lexer": "ipython3",
   "version": "3.13.5"
  }
 },
 "nbformat": 4,
 "nbformat_minor": 5
}
